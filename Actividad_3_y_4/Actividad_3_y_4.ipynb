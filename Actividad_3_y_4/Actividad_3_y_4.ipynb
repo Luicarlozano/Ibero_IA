{
  "nbformat": 4,
  "nbformat_minor": 0,
  "metadata": {
    "colab": {
      "provenance": [],
      "mount_file_id": "1EQpbzi-wJXZmxuYz_DFmtRdixeZAp-lq",
      "authorship_tag": "ABX9TyMIO998hWSgFNtBJfbeD1Np",
      "include_colab_link": true
    },
    "kernelspec": {
      "name": "python3",
      "display_name": "Python 3"
    },
    "language_info": {
      "name": "python"
    }
  },
  "cells": [
    {
      "cell_type": "markdown",
      "metadata": {
        "id": "view-in-github",
        "colab_type": "text"
      },
      "source": [
        "<a href=\"https://colab.research.google.com/github/Luicarlozano/Ibero_IA/blob/main/Actividad_3_y_4/Actividad_3_y_4.ipynb\" target=\"_parent\"><img src=\"https://colab.research.google.com/assets/colab-badge.svg\" alt=\"Open In Colab\"/></a>"
      ]
    },
    {
      "cell_type": "markdown",
      "source": [
        "# Creación de Base de Datos\n"
      ],
      "metadata": {
        "id": "AjH4T8LLaoZK"
      }
    },
    {
      "cell_type": "code",
      "source": [
        "import pandas as pd\n",
        "import numpy as np\n",
        "from datetime import timedelta, datetime\n",
        "\n",
        "# Configuración\n",
        "NUM_REGISTROS = 1000\n",
        "FECHA_INICIO = datetime(2025, 1, 1)\n",
        "\n",
        "# Listas de valores categóricos\n",
        "rutas = [f'Ruta_{i:02d}' for i in range(1, 11)]  # 10 Rutas\n",
        "vehiculos = ['Metro', 'Bus_Articulado', 'Bus_Estándar', 'Tren_Ligero']\n",
        "climas = ['Soleado', 'Nublado', 'Lluvia Moderada', 'Lluvia Fuerte', 'Niebla']\n",
        "dias_semana = ['Lunes', 'Martes', 'Miércoles', 'Jueves', 'Viernes', 'Sábado', 'Domingo']\n",
        "\n",
        "# 1. Generación de datos\n",
        "data = {\n",
        "    'ID_Viaje': [f'VTM_{i:04d}' for i in range(1, NUM_REGISTROS + 1)],\n",
        "    'ID_Ruta': np.random.choice(rutas, NUM_REGISTROS),\n",
        "    'Tipo_Vehículo': np.random.choice(vehiculos, NUM_REGISTROS),\n",
        "    'Distancia_Ruta_KM': np.round(np.random.uniform(5.0, 30.0, NUM_REGISTROS), 1),\n",
        "    'Clima': np.random.choice(climas, NUM_REGISTROS),\n",
        "    'Día_Semana': np.random.choice(dias_semana, NUM_REGISTROS),\n",
        "    'Num_Pasajeros_Total': np.random.randint(50, 600, NUM_REGISTROS), # Carga de pasajeros\n",
        "}\n",
        "\n",
        "# 2. Generación de tiempos y fechas\n",
        "fechas = [FECHA_INICIO + timedelta(days=np.random.randint(0, 90)) for _ in range(NUM_REGISTROS)]\n",
        "data['Fecha'] = [f.strftime('%Y-%m-%d') for f in fechas]\n",
        "\n",
        "# 3. Generación de Tiempos Programados y Reales\n",
        "tiempos_viaje_programados = (data['Distancia_Ruta_KM'] / np.random.uniform(20.0, 45.0, NUM_REGISTROS)) * 60 # Minutos\n",
        "data['Tiempo_Viaje_Programado'] = np.round(tiempos_viaje_programados, 2)\n",
        "\n",
        "# Simulación de Retrasos (Mayor retraso en hora pico y días laborales)\n",
        "es_laboral = np.isin(data['Día_Semana'], ['Lunes', 'Martes', 'Miércoles', 'Jueves', 'Viernes'])\n",
        "\n",
        "# El retraso se basa en una distribución normal, con media y desviación ajustadas\n",
        "# Mayor media de retraso para días laborales y rutas más largas.\n",
        "media_retraso = np.where(es_laboral, 5.0, 2.0) + (data['Distancia_Ruta_KM'] / 10.0)\n",
        "std_retraso = np.where(es_laboral, 3.0, 1.5)\n",
        "\n",
        "retraso_total = np.maximum(0, np.random.normal(media_retraso, std_retraso)) # No negativos\n",
        "data['Retraso_Total_Llegada'] = np.round(retraso_total, 2)\n",
        "\n",
        "# Calcular Tiempo_Viaje_Real\n",
        "data['Tiempo_Viaje_Real'] = data['Tiempo_Viaje_Programado'] + data['Retraso_Total_Llegada']\n",
        "\n",
        "# Generar Tiempos de Salida/Llegada (para mayor realismo)\n",
        "horas_salida_programada = [timedelta(hours=np.random.randint(5, 23), minutes=np.random.randint(0, 60), seconds=0) for _ in range(NUM_REGISTROS)]\n",
        "data['Hora_Salida_Programada'] = [str(t) for t in horas_salida_programada]\n",
        "\n",
        "# Retraso en la Salida (simulamos que parte del retraso total es al inicio)\n",
        "retraso_salida = data['Retraso_Total_Llegada'] * np.random.uniform(0.1, 0.4, NUM_REGISTROS) # Entre 10% y 40% del retraso total es al inicio\n",
        "data['Retraso_Salida'] = np.round(retraso_salida, 2)\n",
        "\n",
        "# Calcular Tiempos Reales\n",
        "hora_salida_real = [t + timedelta(minutes=rs) for t, rs in zip(horas_salida_programada, data['Retraso_Salida'])]\n",
        "data['Hora_Salida_Real'] = [str(t) for t in hora_salida_real]\n",
        "\n",
        "hora_llegada_programada = [t + timedelta(minutes=tvp) for t, tvp in zip(horas_salida_programada, data['Tiempo_Viaje_Programado'])]\n",
        "data['Hora_Llegada_Programada'] = [str(t) for t in hora_llegada_programada]\n",
        "\n",
        "hora_llegada_real = [t + timedelta(minutes=tvr) for t, tvr in zip(horas_salida_programada, data['Tiempo_Viaje_Real'])]\n",
        "data['Hora_Llegada_Real'] = [str(t) for t in hora_llegada_real]\n",
        "\n",
        "\n",
        "# 4. Crear DataFrame y reordenar columnas\n",
        "df = pd.DataFrame(data)\n",
        "columnas_ordenadas = [\n",
        "    'ID_Viaje', 'ID_Ruta', 'Tipo_Vehículo', 'Fecha', 'Día_Semana',\n",
        "    'Hora_Salida_Programada', 'Hora_Salida_Real', 'Retraso_Salida',\n",
        "    'Hora_Llegada_Programada', 'Hora_Llegada_Real', 'Retraso_Total_Llegada',\n",
        "    'Tiempo_Viaje_Programado', 'Tiempo_Viaje_Real',\n",
        "    'Num_Pasajeros_Total', 'Distancia_Ruta_KM', 'Clima'\n",
        "]\n",
        "df = df[columnas_ordenadas]\n",
        "\n",
        "# 5. Guardar como CSV\n",
        "nombre_archivo = 'transporte_masivo_data.csv'\n",
        "df.to_csv(nombre_archivo, index=False)\n",
        "\n",
        "print(f\"✅ Archivo '{nombre_archivo}' generado con {NUM_REGISTROS} registros.\")\n",
        "print(\"\\nPrimeras 5 filas del DataFrame:\")\n",
        "print(df.head())"
      ],
      "metadata": {
        "colab": {
          "base_uri": "https://localhost:8080/"
        },
        "id": "hKB43YTBap2x",
        "outputId": "d01b0347-bb8e-4f07-d8a4-23a900da79a3"
      },
      "execution_count": 18,
      "outputs": [
        {
          "output_type": "stream",
          "name": "stdout",
          "text": [
            "✅ Archivo 'transporte_masivo_data.csv' generado con 1000 registros.\n",
            "\n",
            "Primeras 5 filas del DataFrame:\n",
            "   ID_Viaje  ID_Ruta   Tipo_Vehículo       Fecha Día_Semana  \\\n",
            "0  VTM_0001  Ruta_09  Bus_Articulado  2025-03-31     Jueves   \n",
            "1  VTM_0002  Ruta_01  Bus_Articulado  2025-03-25  Miércoles   \n",
            "2  VTM_0003  Ruta_08  Bus_Articulado  2025-03-01      Lunes   \n",
            "3  VTM_0004  Ruta_03  Bus_Articulado  2025-02-12    Domingo   \n",
            "4  VTM_0005  Ruta_06           Metro  2025-02-13  Miércoles   \n",
            "\n",
            "  Hora_Salida_Programada Hora_Salida_Real  Retraso_Salida  \\\n",
            "0               10:00:00         10:00:54            0.90   \n",
            "1               19:48:00  19:50:04.800000            2.08   \n",
            "2               17:33:00  17:35:25.200000            2.42   \n",
            "3                9:59:00   9:59:19.800000            0.33   \n",
            "4               14:32:00         14:32:36            0.60   \n",
            "\n",
            "  Hora_Llegada_Programada Hora_Llegada_Real  Retraso_Total_Llegada  \\\n",
            "0         10:27:37.800000   10:30:59.400000                   3.36   \n",
            "1         20:23:36.600000          20:29:12                   5.59   \n",
            "2         18:08:49.200000          18:20:33                  11.73   \n",
            "3         10:23:32.400000          10:25:30                   1.96   \n",
            "4         15:02:24.600000          15:08:06                   5.69   \n",
            "\n",
            "   Tiempo_Viaje_Programado  Tiempo_Viaje_Real  Num_Pasajeros_Total  \\\n",
            "0                    27.63              30.99                  406   \n",
            "1                    35.61              41.20                  180   \n",
            "2                    35.82              47.55                  503   \n",
            "3                    24.54              26.50                  237   \n",
            "4                    30.41              36.10                  453   \n",
            "\n",
            "   Distancia_Ruta_KM          Clima  \n",
            "0               14.2  Lluvia Fuerte  \n",
            "1               21.7         Niebla  \n",
            "2               24.4  Lluvia Fuerte  \n",
            "3               13.7        Soleado  \n",
            "4               18.0        Soleado  \n"
          ]
        }
      ]
    },
    {
      "cell_type": "markdown",
      "source": [
        "# Aprendizaje Supervisado"
      ],
      "metadata": {
        "id": "V7QG9reCmUpv"
      }
    },
    {
      "cell_type": "code",
      "source": [
        "import matplotlib.pyplot as plt\n",
        "import pandas as pd\n",
        "from sklearn import metrics\n",
        "from sklearn.model_selection import train_test_split\n",
        "from sklearn.linear_model import LinearRegression\n",
        "\n",
        "try:\n",
        "    data = pd.read_csv('/content/transporte_masivo_data.csv',sep=',', encoding='utf-8')\n",
        "except UnicodeDecodeError:\n",
        "    data = pd.read_csv('/content/transporte_masivo_data.csv',sep=',', encoding='latin1')\n",
        "\n",
        "\n",
        "\n",
        "\n",
        "print(data)"
      ],
      "metadata": {
        "colab": {
          "base_uri": "https://localhost:8080/"
        },
        "id": "QqOXGlx3dhTy",
        "outputId": "fd44c72c-f1dc-454f-95ea-dd990963b772"
      },
      "execution_count": 20,
      "outputs": [
        {
          "output_type": "stream",
          "name": "stdout",
          "text": [
            "     ID_Viaje  ID_Ruta   Tipo_Vehículo       Fecha Día_Semana  \\\n",
            "0    VTM_0001  Ruta_09  Bus_Articulado  2025-03-31     Jueves   \n",
            "1    VTM_0002  Ruta_01  Bus_Articulado  2025-03-25  Miércoles   \n",
            "2    VTM_0003  Ruta_08  Bus_Articulado  2025-03-01      Lunes   \n",
            "3    VTM_0004  Ruta_03  Bus_Articulado  2025-02-12    Domingo   \n",
            "4    VTM_0005  Ruta_06           Metro  2025-02-13  Miércoles   \n",
            "..        ...      ...             ...         ...        ...   \n",
            "995  VTM_0996  Ruta_03           Metro  2025-01-06      Lunes   \n",
            "996  VTM_0997  Ruta_04           Metro  2025-03-27     Sábado   \n",
            "997  VTM_0998  Ruta_09    Bus_Estándar  2025-03-31    Viernes   \n",
            "998  VTM_0999  Ruta_04    Bus_Estándar  2025-01-03     Martes   \n",
            "999  VTM_1000  Ruta_05  Bus_Articulado  2025-03-30  Miércoles   \n",
            "\n",
            "    Hora_Salida_Programada Hora_Salida_Real  Retraso_Salida  \\\n",
            "0                 10:00:00         10:00:54            0.90   \n",
            "1                 19:48:00  19:50:04.800000            2.08   \n",
            "2                 17:33:00  17:35:25.200000            2.42   \n",
            "3                  9:59:00   9:59:19.800000            0.33   \n",
            "4                 14:32:00         14:32:36            0.60   \n",
            "..                     ...              ...             ...   \n",
            "995               18:52:00  18:53:43.200000            1.72   \n",
            "996               15:37:00  15:37:34.200000            0.57   \n",
            "997               16:56:00  16:56:46.200000            0.77   \n",
            "998               18:15:00  18:16:41.400000            1.69   \n",
            "999                9:01:00   9:01:25.800000            0.43   \n",
            "\n",
            "    Hora_Llegada_Programada Hora_Llegada_Real  Retraso_Total_Llegada  \\\n",
            "0           10:27:37.800000   10:30:59.400000                   3.36   \n",
            "1           20:23:36.600000          20:29:12                   5.59   \n",
            "2           18:08:49.200000          18:20:33                  11.73   \n",
            "3           10:23:32.400000          10:25:30                   1.96   \n",
            "4           15:02:24.600000          15:08:06                   5.69   \n",
            "..                      ...               ...                    ...   \n",
            "995         19:57:49.200000   20:04:35.400000                   6.77   \n",
            "996         16:40:04.200000          16:44:51                   4.78   \n",
            "997         17:50:32.400000          17:55:39                   5.11   \n",
            "998         18:24:40.200000   18:31:34.800000                   6.91   \n",
            "999          9:18:15.600000    9:19:49.200000                   1.56   \n",
            "\n",
            "     Tiempo_Viaje_Programado  Tiempo_Viaje_Real  Num_Pasajeros_Total  \\\n",
            "0                      27.63              30.99                  406   \n",
            "1                      35.61              41.20                  180   \n",
            "2                      35.82              47.55                  503   \n",
            "3                      24.54              26.50                  237   \n",
            "4                      30.41              36.10                  453   \n",
            "..                       ...                ...                  ...   \n",
            "995                    65.82              72.59                  232   \n",
            "996                    63.07              67.85                  297   \n",
            "997                    54.54              59.65                  124   \n",
            "998                     9.67              16.58                  142   \n",
            "999                    17.26              18.82                  138   \n",
            "\n",
            "     Distancia_Ruta_KM            Clima  \n",
            "0                 14.2    Lluvia Fuerte  \n",
            "1                 21.7           Niebla  \n",
            "2                 24.4    Lluvia Fuerte  \n",
            "3                 13.7          Soleado  \n",
            "4                 18.0          Soleado  \n",
            "..                 ...              ...  \n",
            "995               23.7    Lluvia Fuerte  \n",
            "996               27.6          Nublado  \n",
            "997               26.1  Lluvia Moderada  \n",
            "998                5.1          Soleado  \n",
            "999               10.4    Lluvia Fuerte  \n",
            "\n",
            "[1000 rows x 16 columns]\n"
          ]
        }
      ]
    },
    {
      "cell_type": "code",
      "source": [
        "data.replace({'Lunes': 1, 'Martes': 2, 'Miércoles': 3, 'Jueves': 4, 'Viernes': 5, 'Sábado': 6, 'Domingo': 7}, inplace=True)\n",
        "data.replace({'Soleado': 1, 'Nublado': 2, 'Lluvia Moderada': 3, 'Lluvia Fuerte': 4, 'Niebla': 5}, inplace=True)\n",
        "data.replace({'Metro': 1, 'Bus_Articulado': 2, 'Bus_Estándar': 3, 'Tren_Ligero': 4}, inplace=True)\n",
        "data.replace({'Ruta_01': 1, 'Ruta_02': 2, 'Ruta_03': 3, 'Ruta_04': 4, 'Ruta_05': 5, 'Ruta_06': 6, 'Ruta_07': 7, 'Ruta_08': 8, 'Ruta_09': 9, 'Ruta_10': 10}, inplace=True)\n",
        "\n",
        "print(data)"
      ],
      "metadata": {
        "colab": {
          "base_uri": "https://localhost:8080/"
        },
        "id": "3n6ppFatjdXi",
        "outputId": "0f12c0e9-de4c-426f-a74b-ec6b38445e70"
      },
      "execution_count": 22,
      "outputs": [
        {
          "output_type": "stream",
          "name": "stdout",
          "text": [
            "     ID_Viaje  ID_Ruta  Tipo_Vehículo       Fecha  Día_Semana  \\\n",
            "0    VTM_0001        9              2  2025-03-31           4   \n",
            "1    VTM_0002        1              2  2025-03-25           3   \n",
            "2    VTM_0003        8              2  2025-03-01           1   \n",
            "3    VTM_0004        3              2  2025-02-12           7   \n",
            "4    VTM_0005        6              1  2025-02-13           3   \n",
            "..        ...      ...            ...         ...         ...   \n",
            "995  VTM_0996        3              1  2025-01-06           1   \n",
            "996  VTM_0997        4              1  2025-03-27           6   \n",
            "997  VTM_0998        9              3  2025-03-31           5   \n",
            "998  VTM_0999        4              3  2025-01-03           2   \n",
            "999  VTM_1000        5              2  2025-03-30           3   \n",
            "\n",
            "    Hora_Salida_Programada Hora_Salida_Real  Retraso_Salida  \\\n",
            "0                 10:00:00         10:00:54            0.90   \n",
            "1                 19:48:00  19:50:04.800000            2.08   \n",
            "2                 17:33:00  17:35:25.200000            2.42   \n",
            "3                  9:59:00   9:59:19.800000            0.33   \n",
            "4                 14:32:00         14:32:36            0.60   \n",
            "..                     ...              ...             ...   \n",
            "995               18:52:00  18:53:43.200000            1.72   \n",
            "996               15:37:00  15:37:34.200000            0.57   \n",
            "997               16:56:00  16:56:46.200000            0.77   \n",
            "998               18:15:00  18:16:41.400000            1.69   \n",
            "999                9:01:00   9:01:25.800000            0.43   \n",
            "\n",
            "    Hora_Llegada_Programada Hora_Llegada_Real  Retraso_Total_Llegada  \\\n",
            "0           10:27:37.800000   10:30:59.400000                   3.36   \n",
            "1           20:23:36.600000          20:29:12                   5.59   \n",
            "2           18:08:49.200000          18:20:33                  11.73   \n",
            "3           10:23:32.400000          10:25:30                   1.96   \n",
            "4           15:02:24.600000          15:08:06                   5.69   \n",
            "..                      ...               ...                    ...   \n",
            "995         19:57:49.200000   20:04:35.400000                   6.77   \n",
            "996         16:40:04.200000          16:44:51                   4.78   \n",
            "997         17:50:32.400000          17:55:39                   5.11   \n",
            "998         18:24:40.200000   18:31:34.800000                   6.91   \n",
            "999          9:18:15.600000    9:19:49.200000                   1.56   \n",
            "\n",
            "     Tiempo_Viaje_Programado  Tiempo_Viaje_Real  Num_Pasajeros_Total  \\\n",
            "0                      27.63              30.99                  406   \n",
            "1                      35.61              41.20                  180   \n",
            "2                      35.82              47.55                  503   \n",
            "3                      24.54              26.50                  237   \n",
            "4                      30.41              36.10                  453   \n",
            "..                       ...                ...                  ...   \n",
            "995                    65.82              72.59                  232   \n",
            "996                    63.07              67.85                  297   \n",
            "997                    54.54              59.65                  124   \n",
            "998                     9.67              16.58                  142   \n",
            "999                    17.26              18.82                  138   \n",
            "\n",
            "     Distancia_Ruta_KM  Clima  \n",
            "0                 14.2      4  \n",
            "1                 21.7      5  \n",
            "2                 24.4      4  \n",
            "3                 13.7      1  \n",
            "4                 18.0      1  \n",
            "..                 ...    ...  \n",
            "995               23.7      4  \n",
            "996               27.6      2  \n",
            "997               26.1      3  \n",
            "998                5.1      1  \n",
            "999               10.4      4  \n",
            "\n",
            "[1000 rows x 16 columns]\n"
          ]
        },
        {
          "output_type": "stream",
          "name": "stderr",
          "text": [
            "/tmp/ipython-input-1028132791.py:4: FutureWarning: Downcasting behavior in `replace` is deprecated and will be removed in a future version. To retain the old behavior, explicitly call `result.infer_objects(copy=False)`. To opt-in to the future behavior, set `pd.set_option('future.no_silent_downcasting', True)`\n",
            "  data.replace({'Ruta_01': 1, 'Ruta_02': 2, 'Ruta_03': 3, 'Ruta_04': 4, 'Ruta_05': 5, 'Ruta_06': 6, 'Ruta_07': 7, 'Ruta_08': 8, 'Ruta_09': 9, 'Ruta_10': 10}, inplace=True)\n"
          ]
        }
      ]
    },
    {
      "cell_type": "code",
      "source": [
        "x = data[['ID_Ruta','Tipo_Vehículo']] # Select both columns as a DataFrame\n",
        "y = data['Retraso_Total_Llegada']\n",
        "\n",
        "\n",
        "X_train, X_test, y_train, y_test = train_test_split(x,y,test_size=0.2)\n",
        "\n",
        "regresion = LinearRegression()\n",
        "regresion.fit(X_train,y_train)\n",
        "\n",
        "prediction_y = regresion.predict(X_test)\n",
        "\n",
        "# prediction_y = prediction_y.reshape(-1, 1) # Reshaping is not necessary when fitting a 2D X\n",
        "\n",
        "# Print the coefficients\n",
        "print('Coefficients: \\n', regresion.coef_)\n",
        "# Print the mean squared error\n",
        "print('Mean squared error: ', metrics.mean_squared_error(y_test, prediction_y))\n",
        "# Print the variance score: 1 is a perfect prediction\n",
        "print('Variance score: ', metrics.r2_score(y_test, prediction_y))"
      ],
      "metadata": {
        "colab": {
          "base_uri": "https://localhost:8080/"
        },
        "id": "NFjQKrNaXepM",
        "outputId": "cc7dbf18-c353-4b30-ffe5-49824749cbf3"
      },
      "execution_count": 24,
      "outputs": [
        {
          "output_type": "stream",
          "name": "stdout",
          "text": [
            "Coefficients: \n",
            " [-0.00711284 -0.04366379]\n",
            "Mean squared error:  9.470030371978448\n",
            "Variance score:  -0.0350158210093916\n"
          ]
        }
      ]
    },
    {
      "cell_type": "code",
      "source": [
        "# Plot the testing data and predicted data\n",
        "# We will plot against the 'Ciudad' column from X_test\n",
        "plt.scatter(X_test['ID_Ruta'], y_test,  color='black')\n",
        "plt.plot(X_test['ID_Ruta'], prediction_y, color='red', linewidth=3)\n",
        "plt.xlabel('ID_Ruta')\n",
        "plt.ylabel('Retraso_Total_Llegada')\n",
        "plt.title('Actual vs Prediccion Retraso Total Llegada basado en ID_Ruta')\n",
        "plt.grid(True)\n",
        "plt.show()"
      ],
      "metadata": {
        "colab": {
          "base_uri": "https://localhost:8080/",
          "height": 472
        },
        "id": "tThudp2UUD9P",
        "outputId": "42c18da6-c4a4-40a4-f425-36cda09af5dc"
      },
      "execution_count": 26,
      "outputs": [
        {
          "output_type": "display_data",
          "data": {
            "text/plain": [
              "<Figure size 640x480 with 1 Axes>"
            ],
            "image/png": "[encoded data removed]"
          },
          "metadata": {}
        }
      ]
    },
    {
      "cell_type": "markdown",
      "source": [
        "# Aprendizaje no Supervisado"
      ],
      "metadata": {
        "id": "UUVQsVMHyQtg"
      }
    },
    {
      "cell_type": "code",
      "source": [
        "import pandas as pd\n",
        "from sklearn.preprocessing import StandardScaler, OneHotEncoder\n",
        "from sklearn.cluster import KMeans\n",
        "from sklearn.metrics import silhouette_score\n",
        "import matplotlib.pyplot as plt\n",
        "import numpy as np\n",
        "\n",
        "# Cargar el dataset con el delimitador correcto y especificar la codificación\n",
        "try:\n",
        "    df = pd.read_csv(\"transporte_masivo_data.csv\", sep=',', encoding='utf-8')\n",
        "except UnicodeDecodeError:\n",
        "    df = pd.read_csv(\"transporte_masivo_data.csv\", sep=',', encoding='latin1')\n",
        "\n",
        "\n",
        "# Convertir la columna 'Tiempo_Viaje_Real' a numérico\n",
        "# Se corrige un posible problema de formato en la generación de datos (valores grandes)\n",
        "# Se reemplazan comas por puntos en caso de haberlas y se convierten a float.\n",
        "df['Tiempo_Viaje_Real'] = df['Tiempo_Viaje_Real'].astype(str).str.replace(',', '.', regex=True)\n",
        "# Manejo de error si hay valores muy grandes o inválidos\n",
        "df['Tiempo_Viaje_Real'] = pd.to_numeric(df['Tiempo_Viaje_Real'], errors='coerce')\n",
        "\n",
        "# Eliminar cualquier fila con valores nulos resultantes de la limpieza\n",
        "df.dropna(inplace=True)\n",
        "\n",
        "print(f\"Número de registros limpios: {len(df)}\")"
      ],
      "metadata": {
        "colab": {
          "base_uri": "https://localhost:8080/"
        },
        "id": "qk6EhS4dVZj6",
        "outputId": "75ab0ef7-f854-42cb-e624-396d15ed404c"
      },
      "execution_count": 28,
      "outputs": [
        {
          "output_type": "stream",
          "name": "stdout",
          "text": [
            "Número de registros limpios: 1000\n"
          ]
        }
      ]
    },
    {
      "cell_type": "code",
      "source": [
        "# 1. Selección de Características (Features)\n",
        "features = [\n",
        "    'Retraso_Total_Llegada',\n",
        "    'Tiempo_Viaje_Real',\n",
        "    'Num_Pasajeros_Total',\n",
        "    'Día_Semana',\n",
        "    'Clima'\n",
        "]\n",
        "data_model = df[features].copy()\n",
        "\n",
        "# 2. Codificación de Variables Categóricas (One-Hot Encoding)\n",
        "encoder = OneHotEncoder(sparse_output=False, handle_unknown='ignore')\n",
        "encoded_features = encoder.fit_transform(data_model[['Día_Semana', 'Clima']])\n",
        "encoded_df = pd.DataFrame(encoded_features, columns=encoder.get_feature_names_out(['Día_Semana', 'Clima']))\n",
        "\n",
        "# Unir con las variables numéricas\n",
        "X = pd.concat([data_model.reset_index(drop=True).drop(columns=['Día_Semana', 'Clima']), encoded_df], axis=1)\n",
        "\n",
        "# 3. Escalado de Datos Numéricos (Estandarización)\n",
        "# K-Means es sensible a la escala de las variables.\n",
        "scaler = StandardScaler()\n",
        "X_scaled = scaler.fit_transform(X)\n",
        "\n",
        "print(\"\\nDimensiones de los datos escalados para K-Means:\", X_scaled.shape)"
      ],
      "metadata": {
        "colab": {
          "base_uri": "https://localhost:8080/"
        },
        "id": "dy65RETcWCGr",
        "outputId": "ebba24a1-a75c-4ab6-aa82-a0ce2d40a498"
      },
      "execution_count": 30,
      "outputs": [
        {
          "output_type": "stream",
          "name": "stdout",
          "text": [
            "\n",
            "Dimensiones de los datos escalados para K-Means: (1000, 15)\n"
          ]
        }
      ]
    },
    {
      "cell_type": "code",
      "source": [
        "# Rango de K a probar\n",
        "k_range = range(2, 11)\n",
        "inertia = []\n",
        "\n",
        "for k in k_range:\n",
        "    kmeans = KMeans(n_clusters=k, random_state=42, n_init=10)\n",
        "    kmeans.fit(X_scaled)\n",
        "    inertia.append(kmeans.inertia_)\n",
        "\n",
        "# Gráfico del método del codo\n",
        "plt.figure(figsize=(8, 5))\n",
        "plt.plot(k_range, inertia, marker='o')\n",
        "plt.title('Método del Codo para Encontrar K Óptimo')\n",
        "plt.xlabel('Número de Clústeres (K)')\n",
        "plt.ylabel('Inercia (Suma de Cuadrados Intra-Clúster)')\n",
        "plt.grid(True, linestyle='--', alpha=0.6)\n",
        "plt.show()\n",
        "\n",
        "# Base en el gráfico, elegiremos K=4 como ejemplo (asumiendo que ahí se ve un 'codo')\n",
        "K_OPTIMO = 4"
      ],
      "metadata": {
        "colab": {
          "base_uri": "https://localhost:8080/",
          "height": 490
        },
        "id": "KQC4dnHVWQwF",
        "outputId": "23c2a045-34e1-45b5-c344-8c02e07d64cd"
      },
      "execution_count": 31,
      "outputs": [
        {
          "output_type": "display_data",
          "data": {
            "text/plain": [
              "<Figure size 800x500 with 1 Axes>"
            ],
            "image/png": "[encoded data removed]"
          },
          "metadata": {}
        }
      ]
    },
    {
      "cell_type": "code",
      "source": [
        "# Entrenar K-Means con K óptimo\n",
        "kmeans = KMeans(n_clusters=K_OPTIMO, random_state=42, n_init=10)\n",
        "df['Cluster'] = kmeans.fit_predict(X_scaled)\n",
        "\n",
        "print(f\"\\nDistribución de registros por clúster (K={K_OPTIMO}):\")\n",
        "print(df['Cluster'].value_counts().sort_index())"
      ],
      "metadata": {
        "colab": {
          "base_uri": "https://localhost:8080/"
        },
        "id": "fHIgWoGMWWig",
        "outputId": "2fabe01b-08e5-4448-f0a9-c379c647656d"
      },
      "execution_count": 32,
      "outputs": [
        {
          "output_type": "stream",
          "name": "stdout",
          "text": [
            "\n",
            "Distribución de registros por clúster (K=4):\n",
            "Cluster\n",
            "0    212\n",
            "1    201\n",
            "2    205\n",
            "3    382\n",
            "Name: count, dtype: int64\n"
          ]
        }
      ]
    },
    {
      "cell_type": "code",
      "source": [
        "# Análisis de los Centroides (Valores Medios)\n",
        "cluster_analysis = df.groupby('Cluster')[\n",
        "    ['Retraso_Total_Llegada', 'Tiempo_Viaje_Real', 'Num_Pasajeros_Total', 'Distancia_Ruta_KM']\n",
        "].mean().round(2)\n",
        "\n",
        "print(\"\\nAnálisis de Centroides (Valores Medios por Clúster):\")\n",
        "print(cluster_analysis)\n",
        "\n",
        "# Análisis de Variables Categóricas (Moda o Distribución)\n",
        "# Ejemplo: Días más comunes por clúster\n",
        "moda_dia = df.groupby('Cluster')['Día_Semana'].agg(lambda x: x.mode()[0])\n",
        "print(\"\\nDía de la Semana más común (Moda) por Clúster:\")\n",
        "print(moda_dia)"
      ],
      "metadata": {
        "colab": {
          "base_uri": "https://localhost:8080/"
        },
        "id": "_kEULPzzWcxa",
        "outputId": "c63292a9-7fd4-4343-9f65-9e4410eeabe6"
      },
      "execution_count": 35,
      "outputs": [
        {
          "output_type": "stream",
          "name": "stdout",
          "text": [
            "\n",
            "Análisis de Centroides (Valores Medios por Clúster):\n",
            "         Retraso_Total_Llegada  Tiempo_Viaje_Real  Num_Pasajeros_Total  \\\n",
            "Cluster                                                                  \n",
            "0                         5.81              40.09               310.02   \n",
            "1                         5.83              38.45               325.86   \n",
            "2                         5.69              39.23               332.22   \n",
            "3                         6.08              41.08               333.91   \n",
            "\n",
            "         Distancia_Ruta_KM  \n",
            "Cluster                     \n",
            "0                    17.51  \n",
            "1                    16.59  \n",
            "2                    16.94  \n",
            "3                    17.94  \n",
            "\n",
            "Día de la Semana más común (Moda) por Clúster:\n",
            "Cluster\n",
            "0    Domingo\n",
            "1     Martes\n",
            "2    Domingo\n",
            "3     Jueves\n",
            "Name: Día_Semana, dtype: object\n"
          ]
        }
      ]
    }
  ]
}