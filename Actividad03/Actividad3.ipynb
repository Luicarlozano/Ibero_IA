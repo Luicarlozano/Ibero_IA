{
  "nbformat": 4,
  "nbformat_minor": 0,
  "metadata": {
    "colab": {
      "provenance": [],
      "authorship_tag": "ABX9TyOnChe/jt1ejyJL4MmQnCY4",
      "include_colab_link": true
    },
    "kernelspec": {
      "name": "python3",
      "display_name": "Python 3"
    },
    "language_info": {
      "name": "python"
    }
  },
  "cells": [
    {
      "cell_type": "markdown",
      "metadata": {
        "id": "view-in-github",
        "colab_type": "text"
      },
      "source": [
        "<a href=\"https://colab.research.google.com/github/Luicarlozano/Ibero_IA/blob/main/Actividad03/Actividad3.ipynb\" target=\"_parent\"><img src=\"https://colab.research.google.com/assets/colab-badge.svg\" alt=\"Open In Colab\"/></a>"
      ]
    },
    {
      "cell_type": "code",
      "source": [
        "import matplotlib.pyplot as plt\n",
        "import pandas as pd\n",
        "from sklearn import metrics\n",
        "from sklearn.model_selection import train_test_split\n",
        "from sklearn.linear_model import LinearRegression\n",
        "\n",
        "data = pd.read_csv('/content/sample_data/Información_Pasajeros_Transporte_Masivo_20250930.csv',sep=';')\n",
        "\n",
        "print(data)"
      ],
      "metadata": {
        "colab": {
          "base_uri": "https://localhost:8080/"
        },
        "id": "QqOXGlx3dhTy",
        "outputId": "b566db97-bb07-46fb-c596-8c3ff15111b3"
      },
      "execution_count": 28,
      "outputs": [
        {
          "output_type": "stream",
          "name": "stdout",
          "text": [
            "         Fecha  Ciudad  Sistema  Pasajeros/dia  DiaSemana\n",
            "0   16/03/2020       2        2        3020938          1\n",
            "1   17/03/2020       2        2        2637563          2\n",
            "2   18/03/2020       2        2        2382931          3\n",
            "3   19/03/2020       2        2        2223115          4\n",
            "4   20/03/2020       2        2         511354          5\n",
            "..         ...     ...      ...            ...        ...\n",
            "60  15/05/2020       2        2         957727          5\n",
            "61  16/05/2020       2        2         743912          6\n",
            "62  17/05/2020       2        2         352463          7\n",
            "63  18/05/2020       2        2         984656          1\n",
            "64  19/05/2020       2        2         979686          2\n",
            "\n",
            "[65 rows x 5 columns]\n"
          ]
        }
      ]
    },
    {
      "cell_type": "code",
      "source": [
        "#Variables de entrada y de salida\n",
        "\n",
        "x = data[['DiaSemana']] # Select both columns as a DataFrame\n",
        "y = data['Pasajeros/dia']\n",
        "\n",
        "\n",
        "X_train, X_test, y_train, y_test = train_test_split(x,y,test_size=0.2)\n",
        "\n",
        "regresion = LinearRegression()\n",
        "regresion.fit(X_train,y_train)\n",
        "\n",
        "prediction_y = regresion.predict(X_test)\n",
        "\n",
        "# prediction_y = prediction_y.reshape(-1, 1) # Reshaping is not necessary when fitting a 2D X\n",
        "\n",
        "# Print the coefficients\n",
        "print('Coefficients: \\n', regresion.coef_)\n",
        "# Print the mean squared error\n",
        "print('Mean squared error: ', metrics.mean_squared_error(y_test, prediction_y))\n",
        "# Print the variance score: 1 is a perfect prediction\n",
        "print('Variance score: ', metrics.r2_score(y_test, prediction_y))"
      ],
      "metadata": {
        "colab": {
          "base_uri": "https://localhost:8080/"
        },
        "id": "uOYJXBwCkULl",
        "outputId": "b60b6b6d-828a-48f2-8115-cc06fd169009"
      },
      "execution_count": 29,
      "outputs": [
        {
          "output_type": "stream",
          "name": "stdout",
          "text": [
            "Coefficients: \n",
            " [-110291.52190637]\n",
            "Mean squared error:  437573978394.76587\n",
            "Variance score:  0.06120980564770939\n"
          ]
        }
      ]
    },
    {
      "cell_type": "code",
      "source": [
        "# Plot the testing data and predicted data\n",
        "# We will plot against the 'Ciudad' column from X_test\n",
        "plt.scatter(X_test, y_test,  color='black')\n",
        "plt.plot(X_test, prediction_y, color='red', linewidth=3)\n",
        "plt.xlabel('Ciudad')\n",
        "plt.ylabel('Pasajeros/dia')\n",
        "plt.title('Actual vs Prediccion Pasajeros/dia basado en Dia de La semana')\n",
        "plt.grid(True)\n",
        "plt.show()"
      ],
      "metadata": {
        "colab": {
          "base_uri": "https://localhost:8080/",
          "height": 487
        },
        "id": "FqjBbdTxmhta",
        "outputId": "f9699c15-6afb-4a70-9c4e-4e92a494ba18"
      },
      "execution_count": 31,
      "outputs": [
        {
          "output_type": "display_data",
          "data": {
            "text/plain": [
              "<Figure size 640x480 with 1 Axes>"
            ],
            "image/png": "[encoded data removed]"
          },
          "metadata": {}
        }
      ]
    },
    {
      "cell_type": "markdown",
      "source": [
        "Validacion de la confirguracion del modelo con un dataset diferente sobre factores medicos"
      ],
      "metadata": {
        "id": "UUVQsVMHyQtg"
      }
    },
    {
      "cell_type": "code",
      "source": [
        "import matplotlib.pyplot as plt\n",
        "import pandas as pd\n",
        "from sklearn import metrics\n",
        "from sklearn.model_selection import train_test_split\n",
        "from sklearn.linear_model import LinearRegression\n",
        "\n",
        "dataRisk = pd.read_csv('/content/sample_data/MaternalRisk.csv',sep=';')\n",
        "\n",
        "print(data)"
      ],
      "metadata": {
        "colab": {
          "base_uri": "https://localhost:8080/"
        },
        "id": "YUeSxMGSyPDG",
        "outputId": "a6514100-84b4-4fa8-ac99-a477db089f78"
      },
      "execution_count": 39,
      "outputs": [
        {
          "output_type": "stream",
          "name": "stdout",
          "text": [
            "      Age  SystolicBP  DiastolicBP   BS  BodyTemp  HeartRate  RiskLevel\n",
            "0      25         130           80   15      98.0         86          3\n",
            "1      35         140           90   13      98.0         70          3\n",
            "2      29          90           70    8     100.0         80          3\n",
            "3      30         140           85    7      98.0         70          3\n",
            "4      35         120           60  6,1      98.0         76          1\n",
            "...   ...         ...          ...  ...       ...        ...        ...\n",
            "1009   22         120           60   15      98.0         80          3\n",
            "1010   55         120           90   18      98.0         60          3\n",
            "1011   35          85           60   19      98.0         86          3\n",
            "1012   43         120           90   18      98.0         70          3\n",
            "1013   32         120           65    6     101.0         76          2\n",
            "\n",
            "[1014 rows x 7 columns]\n"
          ]
        }
      ]
    },
    {
      "cell_type": "code",
      "source": [
        "#Variables de entrada y de salida\n",
        "\n",
        "x = dataRisk[['SystolicBP','Age','BodyTemp']] # Select both columns as a DataFrame\n",
        "y = dataRisk['RiskLevel']\n",
        "\n",
        "\n",
        "X_train, X_test, y_train, y_test = train_test_split(x,y,test_size=0.2)\n",
        "\n",
        "regresion = LinearRegression()\n",
        "regresion.fit(X_train,y_train)\n",
        "\n",
        "prediction_y = regresion.predict(X_test)\n",
        "\n",
        "# prediction_y = prediction_y.reshape(-1, 1) # Reshaping is not necessary when fitting a 2D X\n",
        "\n",
        "# Print the coefficients\n",
        "print('Coefficients: \\n', regresion.coef_)\n",
        "# Print the mean squared error\n",
        "print('Mean squared error: ', metrics.mean_squared_error(y_test, prediction_y))\n",
        "# Print the variance score: 1 is a perfect prediction\n",
        "print('Variance score: ', metrics.r2_score(y_test, prediction_y))"
      ],
      "metadata": {
        "colab": {
          "base_uri": "https://localhost:8080/"
        },
        "id": "iNbwdGFYykmo",
        "outputId": "101581cc-94f5-4a27-eb6f-25694b7c1ece"
      },
      "execution_count": 40,
      "outputs": [
        {
          "output_type": "stream",
          "name": "stdout",
          "text": [
            "Coefficients: \n",
            " [0.01781756 0.01074659 0.19616019]\n",
            "Mean squared error:  0.4705294629437112\n",
            "Variance score:  0.2957779967150652\n"
          ]
        }
      ]
    }
  ]
}