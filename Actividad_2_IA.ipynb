{
  "nbformat": 4,
  "nbformat_minor": 0,
  "metadata": {
    "colab": {
      "provenance": [],
      "authorship_tag": "ABX9TyNeJAu/o/E/QdmnZ1MqSEXZ",
      "include_colab_link": true
    },
    "kernelspec": {
      "name": "python3",
      "display_name": "Python 3"
    },
    "language_info": {
      "name": "python"
    }
  },
  "cells": [
    {
      "cell_type": "markdown",
      "metadata": {
        "id": "view-in-github",
        "colab_type": "text"
      },
      "source": [
        "<a href=\"https://colab.research.google.com/github/Luicarlozano/Ibero_IA/blob/main/Actividad_2_IA.ipynb\" target=\"_parent\"><img src=\"https://colab.research.google.com/assets/colab-badge.svg\" alt=\"Open In Colab\"/></a>"
      ]
    },
    {
      "cell_type": "code",
      "source": [
        "import heapq\n",
        "\n",
        "# --- 1. Módulo del Sistema Experto para Transporte ---\n",
        "# Pondera el tiempo de viaje basándose en condiciones de la estación y la hora.\n",
        "\n",
        "class SistemaExpertoTransporte:\n",
        "    def __init__(self, condiciones_actuales):\n",
        "        \"\"\"\n",
        "        Inicializa el sistema experto con las condiciones actuales.\n",
        "        :param condiciones_actuales: Diccionario con datos como 'hora', 'tipo_estacion', etc.\n",
        "        \"\"\"\n",
        "        self.condiciones = condiciones_actuales\n",
        "\n",
        "    def calcular_tiempo_ajustado(self, tiempo_base, tipo_estacion):\n",
        "        \"\"\"\n",
        "        Aplica reglas para modificar el tiempo de viaje entre estaciones.\n",
        "        :param tiempo_base: Tiempo de viaje promedio sin congestión.\n",
        "        :param tipo_estacion: Atributo de la estación de destino ('troncal', 'portal', 'intermedia').\n",
        "        :return: El tiempo ajustado.\n",
        "        \"\"\"\n",
        "        tiempo_ajustado = tiempo_base\n",
        "\n",
        "        # Regla 1: Congestión en Portales en horas pico de lunes a viernes\n",
        "        if self.condiciones.get('hora') == 'pico' and tipo_estacion == 'portal' and self.condiciones.get('tipo_dia') == 'L-V':\n",
        "            tiempo_ajustado += tiempo_base * 0.7  # Aumenta el tiempo en 70% por la congestión\n",
        "\n",
        "        # Regla 2: Congestión en Portales en horas pico de Sabado\n",
        "        if self.condiciones.get('hora') == 'pico' and tipo_estacion == 'portal' and self.condiciones.get('tipo_dia') == 'S':\n",
        "            tiempo_ajustado += tiempo_base * 0.2  # Aumenta el tiempo en 20% por la congestión\n",
        "\n",
        "        # Regla 3: Demora en estaciones de alto flujo de lunes a vienes (troncales)\n",
        "        if tipo_estacion == 'troncal' and self.condiciones.get('tipo_dia') == 'L-V':\n",
        "            tiempo_ajustado += 4  # Penalización fija de 8 minutos\n",
        "\n",
        "        # Regla 4: Demora en estaciones de alto flujo de sadabos (troncales)\n",
        "        if tipo_estacion == 'troncal' and self.condiciones.get('tipo_dia') == 'S':\n",
        "            tiempo_ajustado += 2  # Penalización fija de 5 minutos\n",
        "\n",
        "        # Regla 5: Si no es hora pico y Lunes a viernes, el viaje es más rápido\n",
        "        if self.condiciones.get('hora') == 'valle' and self.condiciones.get('tipo_dia')  == 'L-V':\n",
        "            tiempo_ajustado -= tiempo_base * 0.1  # Descuento del 10%\n",
        "\n",
        "        # Regla 6: Si no es hora pico y es Sabado, el viaje es más rápido\n",
        "        if self.condiciones.get('hora') == 'valle' and self.condiciones.get('tipo_dia') == 'S':\n",
        "            tiempo_ajustado -= tiempo_base * 0.2  # Descuento del 20%\n",
        "\n",
        "        return max(tiempo_ajustado, 1) # Asegura que el tiempo no sea negativo\n",
        "\n",
        "# --- 2. Algoritmo de Dijkstra Adaptado ---\n",
        "# Encuentra la ruta más rápida usando los pesos dinámicos.\n",
        "\n",
        "def dijkstra_transporte(red_transporte, inicio, destino, condiciones_actuales):\n",
        "    \"\"\"\n",
        "    Algoritmo de Dijkstra para un sistema de transporte.\n",
        "    :param red_transporte: Diccionario que representa la red de rutas.\n",
        "    :param inicio: Estación de inicio.\n",
        "    :param destino: Estación de destino.\n",
        "    :param condiciones_actuales: Diccionario de condiciones.\n",
        "    :return: Tupla con el tiempo total y la ruta.\n",
        "    \"\"\"\n",
        "    tiempos = {estacion: float('infinity') for estacion in red_transporte}\n",
        "    tiempos[inicio] = 0\n",
        "    pila = [(0, inicio)]\n",
        "    ruta_anterior = {estacion: None for estacion in red_transporte}\n",
        "\n",
        "    sistema_experto = SistemaExpertoTransporte(condiciones_actuales)\n",
        "\n",
        "    while pila:\n",
        "        tiempo_actual, estacion_actual = heapq.heappop(pila)\n",
        "\n",
        "        if tiempo_actual > tiempos[estacion_actual]:\n",
        "            continue\n",
        "\n",
        "        if estacion_actual == destino:\n",
        "            break\n",
        "\n",
        "        for vecino, datos_ruta in red_transporte[estacion_actual].items():\n",
        "            tiempo_base, tipo_estacion = datos_ruta\n",
        "\n",
        "            # Ponderar el tiempo con el sistema experto\n",
        "            tiempo_ajustado = sistema_experto.calcular_tiempo_ajustado(tiempo_base, tipo_estacion)\n",
        "\n",
        "            tiempo_total_nuevo = tiempo_actual + tiempo_ajustado\n",
        "\n",
        "            if tiempo_total_nuevo < tiempos[vecino]:\n",
        "                tiempos[vecino] = tiempo_total_nuevo\n",
        "                ruta_anterior[vecino] = estacion_actual\n",
        "                heapq.heappush(pila, (tiempo_total_nuevo, vecino))\n",
        "\n",
        "    # Reconstruir la ruta\n",
        "    ruta = []\n",
        "    estacion_temp = destino\n",
        "    while estacion_temp:\n",
        "        ruta.append(estacion_temp)\n",
        "        estacion_temp = ruta_anterior[estacion_temp]\n",
        "    ruta.reverse()\n",
        "\n",
        "    return tiempos[destino], ruta\n"
      ],
      "metadata": {
        "colab": {
          "base_uri": "https://localhost:8080/"
        },
        "id": "P3E6B6DMb9Su",
        "outputId": "17b56f4d-ad0a-46c4-b2a3-9a3bda50bdb4"
      },
      "execution_count": 6,
      "outputs": [
        {
          "output_type": "stream",
          "name": "stdout",
          "text": [
            "La ruta más rápida en hora pico es de 19 minutos.\n",
            "Ruta recomendada: A -> B -> D\n",
            "---\n",
            "La ruta más rápida en hora normal es de 12 minutos.\n",
            "Ruta recomendada: A -> C\n"
          ]
        }
      ]
    },
    {
      "cell_type": "code",
      "source": [
        "# Contrucion de grafo red de transporte, conexiones, tiempos y tipos de estacion\n",
        "\n",
        "redTransporte = {'KP':{'K1': (3, 'intermedia')},\n",
        "                 'K1': {'K2': (2, 'intermedia'), 'KP': (3, 'portal')},\n",
        "                 'K2': {'K1': (2, 'intermedia'), 'K3': (2, 'troncal')},\n",
        "                'K3': {'K2': (2, 'intermedia'), 'K4': (4, 'troncal')},\n",
        "                  'K4': {'K3': (4, 'troncal'), 'K5': (3, 'intermedia')},\n",
        "                 'K5': {'K4': (3, 'troncal'), 'K6': (4, 'troncal')},\n",
        "                 'K6': {'K5': (4, 'intermedia'), 'K7': (6, 'intermedia'), 'E3':(5, 'intermedia')},\n",
        "                 'K7': {'K6': (6, 'troncal'), 'F7':(10,'troncal')},\n",
        "                 'E1': {'E2': (3, 'intermedia'), 'F5':(4,'troncal'),'G5':(7,'intermedia'),'G4':(4,'troncal') },\n",
        "                 'E2': {'E3': (5, 'intermedia'), 'E1':(3, 'troncal')},\n",
        "                 'E3': {'K6': (5, 'troncal'), 'E2': (5, 'intermedia'), 'E4': (4, 'troncal')},\n",
        "                 'E4': {'E3': (4, 'intermedia'), 'E5':(3,'intermedia')},\n",
        "                 'E5': {'E4': (3, 'troncal'), 'E6':(3,'troncal')},\n",
        "                 'E6': {'E5': (3, 'intermedia'), 'E7':(5,'intermedia'),'D4': (5, 'troncal')},\n",
        "                 'E7': {'E6': (5, 'troncal'), 'B4': (5, 'troncal')},\n",
        "                 'D5': {'D4': (6, 'troncal'), 'B5': (4, 'intermedia'), 'A6': (5, 'troncal') },\n",
        "                 'D4': {'E6': (5, 'troncal'),'D3': (3, 'intermedia') ,'D5': (6, 'intermedia')},\n",
        "                 'D3': {'D4': (3, 'troncal'), 'D2': (3, 'intermedia')},\n",
        "                 'D2': {'D3': (3, 'intermedia'), 'D1': (4, 'troncal')},\n",
        "                 'D1': {'D2': (4, 'intermedia'), 'DP': (5, 'portal')},\n",
        "                 'DP':{'D1': (5, 'troncal')},\n",
        "                 'B5': {'B4': (5, 'troncal'), 'D5': (4, 'intermedia'), 'A6': (4, 'troncal') },\n",
        "                 'B4': {'E7': (5, 'intermedia'),'B3': (3, 'intermedia') ,'B5': (5, 'intermedia')},\n",
        "                  'B3': {'B4': (3, 'troncal'), 'B2': (4, 'intermedia')},\n",
        "                 'B2': {'B3': (4, 'intermedia'), 'B1': (2, 'intermedia')},\n",
        "                 'B1': {'B2': (2, 'intermedia'), 'BP': (6, 'portal')},\n",
        "                 'BP':{'B1': (6, 'intermedia')},\n",
        "                 'A6': {'B5': (4, 'intermedia'), 'D5':(5,'intermedia'),'A5': (2, 'intermedia')},\n",
        "                 'A5': {'A4': (3, 'intermedia'), 'A6':(2,'troncal')},\n",
        "                 'A4': {'A5': (3, 'intermedia'), 'A3':(4,'troncal')},\n",
        "                 'A3': {'A4': (4, 'intermedia'), 'A2':(4,'troncal'),'L3':(7,'intermedia')},\n",
        "                 'A2': {'A3': (4, 'troncal'), 'A1':(3,'troncal'),'F5':(6,'troncal'),'F6':(6,'troncal') },\n",
        "                 'A1': {'A2': (3, 'troncal'), 'H3':(5,'intermedia'),'F5':(6,'troncal'),'F6':(6,'troncal') },\n",
        "                 'F7':{'K7': (10, 'intermedia'), 'F6': (5, 'troncal')},\n",
        "                 'F6': {'F7': (5, 'troncal'), 'F5':(4,'troncal'),'A2':(6,'troncal'),'A1':(6,'troncal'), 'L2':(7,'intermedia')},\n",
        "                 'F5': {'F6': (4, 'troncal'), 'F4':(5,'intermedia'),'A2':(6,'troncal'),'A1':(6,'troncal'), 'E1': (4, 'troncal')},\n",
        "                 'F4': {'F5': (5, 'troncal'),'F3': (2, 'intermedia')},\n",
        "                 'F3': {'F4': (3, 'intermedia'), 'F2': (3, 'troncal')},\n",
        "                 'F2': {'F3': (3, 'intermedia'), 'F1': (5, 'intermedia')},\n",
        "                 'F1': {'F2': (5, 'troncal'), 'FP': (7, 'portal')},\n",
        "                 'FP':{'F1': (7, 'portal')},\n",
        "                 'L3': {'A3': (7, 'troncal'), 'L2': (3, 'intermedia')},\n",
        "                 'L2': {'L3': (3, 'intermedia'), 'L1': (4, 'intermedia'),'F6':(7,'troncal') },\n",
        "                 'L1': {'L2': (4, 'intermedia'), 'LP': (6, 'portal'),'G5':(9,'intermedia') },\n",
        "                 'LP':{'L1': (6, 'intermedia')},\n",
        "                'G5': {'G4': (5, 'troncal'), 'L1': (9, 'intermedia'), 'E1': (7, 'troncal') },\n",
        "                 'G4': {'G5': (5, 'intermedia'),'G3': (3, 'intermedia'),'E1': (4, 'troncal')},\n",
        "                 'G3': {'G4': (3, 'troncal'), 'G2': (4, 'intermedia')},\n",
        "                 'G2': {'G3': (4, 'intermedia'), 'G1': (5, 'troncal')},\n",
        "                 'G1': {'G2': (5, 'intermedia'), 'GP': (6, 'portal')},\n",
        "                 'GP':{'G1': (6, 'troncal')},\n",
        "                  'H3': {'A1': (5, 'troncal'), 'H2': (4, 'troncal')},\n",
        "                 'H2': {'H3': (3, 'intermedia'), 'H1': (3, 'intermedia'), 'T1': (4, 'intermedia')},\n",
        "                 'H1': {'H2': (3, 'troncal'), 'HP': (4, 'portal')},\n",
        "                 'HP':{'H1': (4, 'intermedia')},\n",
        "                 'T1': {'H2': (4, 'troncal'), 'TP': (8, 'portal')},\n",
        "                 'TP':{'T1': (8, 'intermedia')},\n",
        "}"
      ],
      "metadata": {
        "id": "fJebzP8KIhMG"
      },
      "execution_count": 10,
      "outputs": []
    },
    {
      "cell_type": "code",
      "source": [
        "#4 ingreso de informacion necesaria\n",
        "ingresoHora = input('En que tipo de horas se transporta valle o pico:').lower()\n",
        "ingresoTipoDia = input('En que ripo de dia se transporta L-V (Lunes a Viernes), S (Sabado) o D-F (Domingos o Festivos):').upper()\n",
        "\n",
        "estacionInicial = input('ingrese la estacion de origen: ').upper()\n",
        "estacionFinal = input('ingrese la estacion Final: ').upper()\n",
        "\n",
        "condiciones_ingreso = {'hora': ingresoHora, 'tipo_dia': ingresoTipoDia}\n",
        "tiempo_final_ingreso, ruta_final_ingreso = dijkstra_transporte(redTransporte, estacionInicial, estacionFinal, condiciones_ingreso)\n",
        "\n",
        "print(f\"El tiempo de la ruta más rápida en hora {ingresoHora} un dia {ingresoTipoDia} es de {int(tiempo_final_ingreso)} minutos.\")\n",
        "print(f\"Ruta recomendada: {' -> '.join(ruta_final_ingreso)}\")"
      ],
      "metadata": {
        "colab": {
          "base_uri": "https://localhost:8080/"
        },
        "id": "Q9wfo50OeuQ6",
        "outputId": "99768763-6496-4bce-eb2a-42b4588aa36d"
      },
      "execution_count": 11,
      "outputs": [
        {
          "output_type": "stream",
          "name": "stdout",
          "text": [
            "En que tipo de horas se transporta valle o pico:pico\n",
            "En que ripo de dia se transporta L-V (Lunes a Viernes), S (Sabado) o D-F (Domingos o Festivos):l-v\n",
            "ingrese la estacion de origen: fp\n",
            "ingrese la estacion Final: e1\n",
            "El tiempo de la ruta más rápida en hora pico un dia L-V es de 43 minutos.\n",
            "Ruta recomendada: FP -> F1 -> F2 -> F3 -> F4 -> F5 -> E1\n"
          ]
        }
      ]
    }
  ]
}